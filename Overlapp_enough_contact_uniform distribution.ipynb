{
 "cells": [
  {
   "cell_type": "markdown",
   "metadata": {},
   "source": [
    "Overlapp_enough_contact_uniform_distribution"
   ]
  },
  {
   "cell_type": "code",
   "execution_count": 1,
   "metadata": {},
   "outputs": [],
   "source": [
    "import numpy as np\n",
    "from matplotlib import pyplot as plt\n",
    "from scipy.stats import uniform"
   ]
  },
  {
   "cell_type": "markdown",
   "metadata": {},
   "source": [
    "Input data "
   ]
  },
  {
   "cell_type": "code",
   "execution_count": 2,
   "metadata": {},
   "outputs": [],
   "source": [
    "N = 1000000\n",
    "cpk_5s = 10 \n",
    "cpk_3s = 6\n",
    "cpk_2s = 4\n",
    "cpk_1s = 2"
   ]
  },
  {
   "cell_type": "markdown",
   "metadata": {},
   "source": [
    "Uniform continuos random variable "
   ]
  },
  {
   "cell_type": "code",
   "execution_count": 3,
   "metadata": {},
   "outputs": [],
   "source": [
    "conn_opening = 25.55\n",
    "toll_conn_opening = 0.1 / cpk_5s \n",
    "widith_foil = 25.45\n",
    "toll_widith_foil = 0.1 / cpk_5s \n",
    "foil_decentration = 0.475\n",
    "toll_foil_decentration = 0.1 / cpk_5s\n",
    "foil_total_pitch = 24.5 \n",
    "toll_foil_total_pitch = 0.1 / cpk_5s \n",
    "foil_pad_widith = 0.35\n",
    "toll_foil_pad_widith = 0.06 / cpk_2s\n",
    "conn_middle_first_pin = 0.525\n",
    "toll_midle_first_pin = 0.2 / cpk_5s\n",
    "conn_total_pitch = 24.5\n",
    "toll_conn_total_pitch = 0.2 / cpk_5s\n",
    "conn_pin_widith = 0.15\n",
    "toll_conn_pin_widith = 0.02 / cpk_5s"
   ]
  },
  {
   "cell_type": "code",
   "execution_count": 4,
   "metadata": {},
   "outputs": [],
   "source": [
    "con_opening = uniform.rvs(conn_opening - (toll_conn_opening / 2), toll_conn_opening, size = N)\n",
    "widith_foill = uniform.rvs(widith_foil - (toll_widith_foil/2), toll_widith_foil, size = N)\n",
    "foill_decentration = uniform.rvs(foil_decentration - (toll_foil_decentration /2), toll_foil_decentration, size = N)\n",
    "foill_total_pitch = uniform.rvs(foil_total_pitch - (toll_foil_total_pitch/2), toll_foil_total_pitch, size = N)\n",
    "foill_pad_widith = uniform.rvs(foil_pad_widith - (toll_foil_pad_widith/2), toll_foil_pad_widith, size = N)\n",
    "con_middle_first_pin = uniform.rvs(conn_middle_first_pin - (toll_midle_first_pin /2), toll_midle_first_pin, size = N)\n",
    "con_total_pitch = uniform.rvs(conn_total_pitch - (toll_conn_total_pitch /2), toll_conn_total_pitch, size = N)\n",
    "con_pin_widith = uniform.rvs(conn_pin_widith - (toll_conn_pin_widith/2), toll_conn_pin_widith, size = N)"
   ]
  },
  {
   "cell_type": "code",
   "execution_count": 5,
   "metadata": {},
   "outputs": [],
   "source": [
    "def enough_contact(f, a, b, c, d, g, h, j):\n",
    "        P = (b + c +(d/2) + ((f - a)/2))\n",
    "        M = (g + h - j/2) \n",
    "        return P - M \n",
    "overlapp = enough_contact(con_opening, widith_foill, foill_decentration, foill_total_pitch, foill_pad_widith, con_middle_first_pin, con_total_pitch, con_pin_widith) "
   ]
  },
  {
   "cell_type": "code",
   "execution_count": 6,
   "metadata": {
    "scrolled": true
   },
   "outputs": [
    {
     "data": {
      "text/plain": [
       "(array([1.05979750e-02, 4.06255710e-02, 1.37773675e-01, 3.20883133e-01,\n",
       "        6.84158166e-01, 1.41306334e+00, 2.44813223e+00, 4.00485701e+00,\n",
       "        6.04143455e+00, 8.72684366e+00, 1.16848563e+01, 1.52716820e+01,\n",
       "        1.88649843e+01, 2.30806233e+01, 2.69995189e+01, 3.07305949e+01,\n",
       "        3.40842653e+01, 3.64894168e+01, 3.86625905e+01, 3.95922684e+01,\n",
       "        3.96717532e+01, 3.84300238e+01, 3.62038603e+01, 3.33918642e+01,\n",
       "        2.96289943e+01, 2.60851492e+01, 2.19737237e+01, 1.80353984e+01,\n",
       "        1.41612497e+01, 1.09235684e+01, 7.87900566e+00, 5.45736837e+00,\n",
       "        3.50792974e+00, 2.06248370e+00, 1.15164662e+00, 5.51683478e-01,\n",
       "        2.54940177e-01, 8.36062475e-02, 2.70837140e-02, 5.88776391e-03]),\n",
       " array([0.21625049, 0.21794893, 0.21964737, 0.2213458 , 0.22304424,\n",
       "        0.22474268, 0.22644112, 0.22813955, 0.22983799, 0.23153643,\n",
       "        0.23323487, 0.2349333 , 0.23663174, 0.23833018, 0.24002862,\n",
       "        0.24172705, 0.24342549, 0.24512393, 0.24682237, 0.24852081,\n",
       "        0.25021924, 0.25191768, 0.25361612, 0.25531456, 0.25701299,\n",
       "        0.25871143, 0.26040987, 0.26210831, 0.26380674, 0.26550518,\n",
       "        0.26720362, 0.26890206, 0.2706005 , 0.27229893, 0.27399737,\n",
       "        0.27569581, 0.27739425, 0.27909268, 0.28079112, 0.28248956,\n",
       "        0.284188  ]),\n",
       " <a list of 40 Patch objects>)"
      ]
     },
     "execution_count": 6,
     "metadata": {},
     "output_type": "execute_result"
    },
    {
     "data": {
      "image/png": "[encoded data removed]",
      "text/plain": [
       "<Figure size 432x288 with 1 Axes>"
      ]
     },
     "metadata": {
      "needs_background": "light"
     },
     "output_type": "display_data"
    }
   ],
   "source": [
    "plt.hist(overlapp, density = True, bins = 40, edgecolor = \"black\")"
   ]
  },
  {
   "cell_type": "code",
   "execution_count": 7,
   "metadata": {
    "scrolled": true
   },
   "outputs": [
    {
     "name": "stdout",
     "output_type": "stream",
     "text": [
      "0.24999176075059806\n"
     ]
    }
   ],
   "source": [
    "miu = np.mean(overlapp)\n",
    "print(miu)"
   ]
  },
  {
   "cell_type": "code",
   "execution_count": 8,
   "metadata": {},
   "outputs": [
    {
     "name": "stdout",
     "output_type": "stream",
     "text": [
      "0.00960369360183421\n"
     ]
    }
   ],
   "source": [
    "sigma = np.std(overlapp)\n",
    "print(sigma)"
   ]
  },
  {
   "cell_type": "markdown",
   "metadata": {},
   "source": [
    "The statistic min and max values between edge of pad and edge of pin "
   ]
  },
  {
   "cell_type": "code",
   "execution_count": 9,
   "metadata": {
    "scrolled": true
   },
   "outputs": [
    {
     "name": "stdout",
     "output_type": "stream",
     "text": [
      "The statistic min value 0.2162504897278552 and max 0.2841879964460894 value between edge of pad and edge of pin\n"
     ]
    }
   ],
   "source": [
    "\n",
    "\n",
    "print(\"The statistic min value {} and max {} value between edge of pad and edge of pin\".format(np.min(overlapp), np.max(overlapp)) )"
   ]
  },
  {
   "cell_type": "markdown",
   "metadata": {},
   "source": [
    "Overlapping pin/pad 1:>= 50% of pin width, 50 % of pin to be in contact with foil pad, admisibil distance for left and right side"
   ]
  },
  {
   "cell_type": "code",
   "execution_count": 10,
   "metadata": {},
   "outputs": [
    {
     "name": "stdout",
     "output_type": "stream",
     "text": [
      "Right side 0.425 left side 0.075\n"
     ]
    }
   ],
   "source": [
    "right_side = foil_pad_widith + (conn_pin_widith / 2)\n",
    "left_side = conn_pin_widith / 2\n",
    "print(\"Right side \" + str(right_side) + \" left side \" + str(left_side))"
   ]
  },
  {
   "cell_type": "code",
   "execution_count": 11,
   "metadata": {
    "scrolled": false
   },
   "outputs": [
    {
     "name": "stdout",
     "output_type": "stream",
     "text": [
      " The total number of overlapping using uniform distribution for 1000000 utilization outside the 50% pin/pad contact are: 0 samples\n"
     ]
    }
   ],
   "source": [
    "count = []\n",
    "for i in overlapp:\n",
    "    if i <= left_side or i >= right_side:\n",
    "        count.append(i)\n",
    "print(\" The total number of overlapping using uniform distribution for {} utilization outside the 50% pin/pad contact are: {} samples\".format(N, len(count)))   "
   ]
  },
  {
   "cell_type": "code",
   "execution_count": null,
   "metadata": {},
   "outputs": [],
   "source": []
  }
 ],
 "metadata": {
  "kernelspec": {
   "display_name": "Python 3",
   "language": "python",
   "name": "python3"
  },
  "language_info": {
   "codemirror_mode": {
    "name": "ipython",
    "version": 3
   },
   "file_extension": ".py",
   "mimetype": "text/x-python",
   "name": "python",
   "nbconvert_exporter": "python",
   "pygments_lexer": "ipython3",
   "version": "3.7.4"
  }
 },
 "nbformat": 4,
 "nbformat_minor": 2
}
