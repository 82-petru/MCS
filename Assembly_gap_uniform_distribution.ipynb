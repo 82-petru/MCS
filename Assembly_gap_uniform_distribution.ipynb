{
 "cells": [
  {
   "cell_type": "markdown",
   "metadata": {},
   "source": [
    "Assembly_gap_uniform_distribution"
   ]
  },
  {
   "cell_type": "code",
   "execution_count": 174,
   "metadata": {},
   "outputs": [],
   "source": [
    "from scipy.stats import truncnorm\n",
    "import numpy as np\n",
    "from matplotlib import pyplot as plt\n",
    "from scipy.stats import uniform\n",
    "import random"
   ]
  },
  {
   "cell_type": "markdown",
   "metadata": {},
   "source": [
    "Input data for mounting slot calculation "
   ]
  },
  {
   "cell_type": "code",
   "execution_count": 175,
   "metadata": {},
   "outputs": [],
   "source": [
    "N = 20000\n",
    "mouth_opening = 20.51 #cpk 1.67\n",
    "tol_mouth_opening = 0.01\n",
    "con_loc = mouth_opening - tol_mouth_opening / 2\n",
    "con_scale = tol_mouth_opening\n",
    "foil_widith = 20.5 #cpk 1.67\n",
    "tol_foil_widith = 0.014\n",
    "foil_loc = foil_widith - tol_foil_widith / 2\n",
    "foil_scale = tol_foil_widith"
   ]
  },
  {
   "cell_type": "markdown",
   "metadata": {},
   "source": [
    "Uniform continuous random variable."
   ]
  },
  {
   "cell_type": "code",
   "execution_count": 176,
   "metadata": {},
   "outputs": [],
   "source": [
    "list1 = uniform.rvs(con_loc, con_scale, size = N)\n",
    "list2 = uniform.rvs(foil_loc, foil_scale, size = N)"
   ]
  },
  {
   "cell_type": "code",
   "execution_count": 177,
   "metadata": {
    "scrolled": true
   },
   "outputs": [
    {
     "name": "stdout",
     "output_type": "stream",
     "text": [
      "The minimum value for uniform distribution -0.0005850871824542025\n",
      "The maximum value for uniform distribution 0.013413046855010435\n"
     ]
    }
   ],
   "source": [
    "def assembly_gap(connector, foil):\n",
    "    gap = []\n",
    "    for i in connector:\n",
    "        for j in foil:\n",
    "            gap.append(i - j)\n",
    "        return gap\n",
    "gap = assembly_gap(list1, list2)\n",
    "print(\"The minimum value for uniform distribution\", min(gap))\n",
    "print(\"The maximum value for uniform distribution\", max(gap))"
   ]
  },
  {
   "cell_type": "code",
   "execution_count": 178,
   "metadata": {},
   "outputs": [
    {
     "name": "stdout",
     "output_type": "stream",
     "text": [
      "0.00639610011646718\n"
     ]
    }
   ],
   "source": [
    "miu = np.mean(gap)\n",
    "print(miu)"
   ]
  },
  {
   "cell_type": "code",
   "execution_count": 179,
   "metadata": {
    "scrolled": false
   },
   "outputs": [
    {
     "name": "stdout",
     "output_type": "stream",
     "text": [
      "0.0040521654486275665\n"
     ]
    }
   ],
   "source": [
    "sigma = np.std(gap)\n",
    "print(sigma)"
   ]
  },
  {
   "cell_type": "markdown",
   "metadata": {},
   "source": [
    "Number of samples greater then \"0\""
   ]
  },
  {
   "cell_type": "code",
   "execution_count": 180,
   "metadata": {
    "scrolled": true
   },
   "outputs": [
    {
     "name": "stdout",
     "output_type": "stream",
     "text": [
      "852\n"
     ]
    }
   ],
   "source": [
    "lista_sub_zero = [i for i in gap if i < 0]\n",
    "print(len(lista_sub_zero))"
   ]
  },
  {
   "cell_type": "code",
   "execution_count": 181,
   "metadata": {
    "scrolled": true
   },
   "outputs": [
    {
     "data": {
      "text/plain": [
       "(array([75.15287375, 70.5808358 , 75.00999756, 73.00973096, 70.00933106,\n",
       "        73.72411189, 69.29495013, 72.43822622, 70.00933106, 67.43755971,\n",
       "        73.43835952, 70.43795961, 71.43809291, 72.15247384, 72.43822622,\n",
       "        77.29601653, 71.29521673, 71.00946436, 68.29481683, 75.43862612,\n",
       "        67.86618827, 72.15247384, 68.15194064, 68.00906445, 68.00906445,\n",
       "        71.86672147, 71.29521673, 76.86738798, 67.00893115, 75.15287375,\n",
       "        69.72357868, 66.43742641, 73.43835952, 67.43755971, 77.43889272,\n",
       "        71.86672147, 71.43809291, 70.86658817, 69.43782631, 73.15260714]),\n",
       " array([-0.00058509, -0.00023513,  0.00011482,  0.00046477,  0.00081473,\n",
       "         0.00116468,  0.00151463,  0.00186459,  0.00221454,  0.00256449,\n",
       "         0.00291445,  0.0032644 ,  0.00361435,  0.00396431,  0.00431426,\n",
       "         0.00466421,  0.00501417,  0.00536412,  0.00571407,  0.00606403,\n",
       "         0.00641398,  0.00676393,  0.00711389,  0.00746384,  0.00781379,\n",
       "         0.00816375,  0.0085137 ,  0.00886365,  0.00921361,  0.00956356,\n",
       "         0.00991351,  0.01026347,  0.01061342,  0.01096337,  0.01131333,\n",
       "         0.01166328,  0.01201323,  0.01236319,  0.01271314,  0.01306309,\n",
       "         0.01341305]),\n",
       " <a list of 40 Patch objects>)"
      ]
     },
     "execution_count": 181,
     "metadata": {},
     "output_type": "execute_result"
    },
    {
     "data": {
      "image/png": "[encoded data removed]",
      "text/plain": [
       "<Figure size 432x288 with 1 Axes>"
      ]
     },
     "metadata": {
      "needs_background": "light"
     },
     "output_type": "display_data"
    }
   ],
   "source": [
    "plt.hist(gap, density = True, bins = 40, edgecolor = \"black\", alpha = 1) "
   ]
  },
  {
   "cell_type": "markdown",
   "metadata": {},
   "source": [
    "CDF-cumulutive distribution function prabaility of less than x = 0, define in percentage datapoints, left side of the distribution "
   ]
  },
  {
   "cell_type": "code",
   "execution_count": 184,
   "metadata": {},
   "outputs": [
    {
     "name": "stdout",
     "output_type": "stream",
     "text": [
      "0.0\n"
     ]
    }
   ],
   "source": [
    "cdf = uniform.cdf(0, miu, sigma)\n",
    "print(cdf)"
   ]
  },
  {
   "cell_type": "code",
   "execution_count": 185,
   "metadata": {},
   "outputs": [
    {
     "name": "stdout",
     "output_type": "stream",
     "text": [
      "0.0\n"
     ]
    }
   ],
   "source": [
    "samples = cdf * N\n",
    "print(round(samples))"
   ]
  }
 ],
 "metadata": {
  "kernelspec": {
   "display_name": "Python 3",
   "language": "python",
   "name": "python3"
  },
  "language_info": {
   "codemirror_mode": {
    "name": "ipython",
    "version": 3
   },
   "file_extension": ".py",
   "mimetype": "text/x-python",
   "name": "python",
   "nbconvert_exporter": "python",
   "pygments_lexer": "ipython3",
   "version": "3.7.4"
  }
 },
 "nbformat": 4,
 "nbformat_minor": 2
}
