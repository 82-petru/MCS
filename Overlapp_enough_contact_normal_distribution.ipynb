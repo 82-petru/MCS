{
 "cells": [
  {
   "cell_type": "markdown",
   "metadata": {},
   "source": [
    "Overlapp_enough_contact_normal_distribution"
   ]
  },
  {
   "cell_type": "code",
   "execution_count": 15,
   "metadata": {},
   "outputs": [],
   "source": [
    "import numpy as np\n",
    "from matplotlib import pyplot as plt\n",
    "from scipy.stats import norm\n",
    "from scipy.stats import uniform"
   ]
  },
  {
   "cell_type": "markdown",
   "metadata": {},
   "source": [
    "Input data "
   ]
  },
  {
   "cell_type": "code",
   "execution_count": 16,
   "metadata": {},
   "outputs": [],
   "source": [
    "N = 100000\n",
    "cpk_5s = 10 \n",
    "cpk_3s = 6\n",
    "cpk_2s = 4\n",
    "cpk_1s = 2"
   ]
  },
  {
   "cell_type": "markdown",
   "metadata": {},
   "source": [
    "Normal continuos random variable "
   ]
  },
  {
   "cell_type": "code",
   "execution_count": 17,
   "metadata": {},
   "outputs": [],
   "source": [
    "conn_opening = 25.55 \n",
    "toll_conn_opening = 0.1 / cpk_5s \n",
    "width_foil = 25.45\n",
    "toll_widith_foil = 0.1 / cpk_5s \n",
    "foil_decentration = 0.475 \n",
    "toll_foil_decentration = 0.2 / cpk_5s\n",
    "foil_total_pitch = 24.5 \n",
    "toll_foil_total_pitch = 0.1 / cpk_5s \n",
    "foil_pad_widith = 0.35\n",
    "toll_foil_pad_widith = 0.06 / cpk_2s\n",
    "conn_middle_first_pin = 0.525\n",
    "toll_midle_first_pin = 0.2 / cpk_5s\n",
    "conn_total_pitch = 24.5\n",
    "toll_conn_total_pitch = 0.2 / cpk_5s\n",
    "conn_pin_widith = 0.15\n",
    "toll_conn_pin_widith = 0.05 / cpk_5s"
   ]
  },
  {
   "cell_type": "code",
   "execution_count": 18,
   "metadata": {},
   "outputs": [],
   "source": [
    "con_opening = norm.rvs(conn_opening, toll_conn_opening, size = N)\n",
    "width_foill = norm.rvs(width_foil, toll_widith_foil, size = N)\n",
    "foill_decentration = norm.rvs(foil_decentration, toll_foil_decentration, size = N)\n",
    "foill_total_pitch = norm.rvs(foil_total_pitch, toll_foil_total_pitch, size = N)\n",
    "foill_pad_widith = norm.rvs(foil_pad_widith, toll_foil_pad_widith, size = N)\n",
    "con_middle_first_pin = norm.rvs(conn_middle_first_pin, toll_midle_first_pin, size = N)\n",
    "con_total_pitch = norm.rvs(conn_total_pitch, toll_conn_total_pitch, size = N)\n",
    "con_pin_widith = norm.rvs(conn_pin_widith, toll_conn_pin_widith, size = N)"
   ]
  },
  {
   "cell_type": "code",
   "execution_count": 19,
   "metadata": {},
   "outputs": [],
   "source": [
    "def enough_contact(f, a, b, c, d, g, h, j):\n",
    "        P = (b + c +(d/2) + ((f - a)/2))\n",
    "        M = (g + h - j/2)\n",
    "        return P - M \n",
    "overlapp = enough_contact(con_opening, width_foill, foill_decentration, foill_total_pitch, foill_pad_widith, con_middle_first_pin, con_total_pitch, con_pin_widith) "
   ]
  },
  {
   "cell_type": "code",
   "execution_count": 20,
   "metadata": {
    "scrolled": true
   },
   "outputs": [
    {
     "data": {
      "text/plain": [
       "(array([1.26592512e-03, 3.79777535e-03, 1.26592512e-02, 2.02548018e-02,\n",
       "        6.83599562e-02, 1.36719912e-01, 2.13941345e-01, 3.34204230e-01,\n",
       "        6.01314430e-01, 9.87421590e-01, 1.52164199e+00, 2.32170666e+00,\n",
       "        3.20279054e+00, 4.41681273e+00, 5.57640013e+00, 7.01449106e+00,\n",
       "        8.31206431e+00, 9.48937467e+00, 1.00881572e+01, 1.09489863e+01,\n",
       "        1.04122341e+01, 9.90206625e+00, 9.02604607e+00, 7.75125948e+00,\n",
       "        6.49292992e+00, 5.16497447e+00, 4.06235370e+00, 2.99644475e+00,\n",
       "        2.01282093e+00, 1.39758133e+00, 8.92477206e-01, 5.31688548e-01,\n",
       "        3.31672380e-01, 1.65836190e-01, 7.84873572e-02, 4.55733042e-02,\n",
       "        3.16481279e-02, 1.64570265e-02, 5.06370046e-03, 2.53185023e-03]),\n",
       " array([0.09323653, 0.10113589, 0.10903525, 0.11693461, 0.12483397,\n",
       "        0.13273333, 0.1406327 , 0.14853206, 0.15643142, 0.16433078,\n",
       "        0.17223014, 0.1801295 , 0.18802886, 0.19592823, 0.20382759,\n",
       "        0.21172695, 0.21962631, 0.22752567, 0.23542503, 0.24332439,\n",
       "        0.25122376, 0.25912312, 0.26702248, 0.27492184, 0.2828212 ,\n",
       "        0.29072056, 0.29861992, 0.30651929, 0.31441865, 0.32231801,\n",
       "        0.33021737, 0.33811673, 0.34601609, 0.35391545, 0.36181482,\n",
       "        0.36971418, 0.37761354, 0.3855129 , 0.39341226, 0.40131162,\n",
       "        0.40921098]),\n",
       " <a list of 40 Patch objects>)"
      ]
     },
     "execution_count": 20,
     "metadata": {},
     "output_type": "execute_result"
    },
    {
     "data": {
      "image/png": "[encoded data removed]",
      "text/plain": [
       "<Figure size 432x288 with 1 Axes>"
      ]
     },
     "metadata": {
      "needs_background": "light"
     },
     "output_type": "display_data"
    }
   ],
   "source": [
    "plt.hist(overlapp, density = True, bins = 40, edgecolor = \"black\")"
   ]
  },
  {
   "cell_type": "code",
   "execution_count": 21,
   "metadata": {
    "scrolled": true
   },
   "outputs": [
    {
     "name": "stdout",
     "output_type": "stream",
     "text": [
      "0.2500131220448332\n"
     ]
    }
   ],
   "source": [
    "miu = np.mean(overlapp)\n",
    "print(miu)"
   ]
  },
  {
   "cell_type": "code",
   "execution_count": 22,
   "metadata": {},
   "outputs": [
    {
     "name": "stdout",
     "output_type": "stream",
     "text": [
      "0.03756335933611367\n"
     ]
    }
   ],
   "source": [
    "sigma = np.std(overlapp)\n",
    "print(sigma)"
   ]
  },
  {
   "cell_type": "markdown",
   "metadata": {},
   "source": [
    "The statistic min and max values between edge of pad and edge of pin "
   ]
  },
  {
   "cell_type": "code",
   "execution_count": 23,
   "metadata": {
    "scrolled": true
   },
   "outputs": [
    {
     "name": "stdout",
     "output_type": "stream",
     "text": [
      "The statistic max value 0.40921098350377605 and min 0.09323652724599185 value between edge of pad and edge of pin\n"
     ]
    }
   ],
   "source": [
    "\n",
    "\n",
    "print(\"The statistic max value {} and min {} value between edge of pad and edge of pin\".format(np.max(overlapp), np.min(overlapp)) )"
   ]
  },
  {
   "cell_type": "markdown",
   "metadata": {},
   "source": [
    "Overlapping pin/pad 1:>= 50% of pin width, 50 % of pin to be in contact with foil pad, admisibil distance for left and right side"
   ]
  },
  {
   "cell_type": "code",
   "execution_count": 24,
   "metadata": {},
   "outputs": [
    {
     "name": "stdout",
     "output_type": "stream",
     "text": [
      "Right side 0.425 left side 0.075\n"
     ]
    }
   ],
   "source": [
    "right_side = foil_pad_widith + (conn_pin_widith / 2)\n",
    "left_side = conn_pin_widith / 2\n",
    "print(\"Right side \" + str(right_side) + \" left side \" + str(left_side))"
   ]
  },
  {
   "cell_type": "code",
   "execution_count": 25,
   "metadata": {
    "scrolled": false
   },
   "outputs": [
    {
     "name": "stdout",
     "output_type": "stream",
     "text": [
      " The total number of overlapping using normal distribution for 100000 utilization outside the 50% pin/pad contact are: 0 samples\n"
     ]
    }
   ],
   "source": [
    "count = []\n",
    "for i in overlapp:\n",
    "    if i <= left_side or i >= right_side:\n",
    "        count.append(i)\n",
    "print(\" The total number of overlapping using normal distribution for {} utilization outside the 50% pin/pad contact are: {} samples\".format(N, len(count)))   "
   ]
  },
  {
   "cell_type": "code",
   "execution_count": null,
   "metadata": {},
   "outputs": [],
   "source": []
  }
 ],
 "metadata": {
  "kernelspec": {
   "display_name": "Python 3",
   "language": "python",
   "name": "python3"
  },
  "language_info": {
   "codemirror_mode": {
    "name": "ipython",
    "version": 3
   },
   "file_extension": ".py",
   "mimetype": "text/x-python",
   "name": "python",
   "nbconvert_exporter": "python",
   "pygments_lexer": "ipython3",
   "version": "3.7.4"
  }
 },
 "nbformat": 4,
 "nbformat_minor": 2
}
