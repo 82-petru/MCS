{
 "cells": [
  {
   "cell_type": "markdown",
   "metadata": {},
   "source": [
    "Assembly_gap_normal_distribution"
   ]
  },
  {
   "cell_type": "code",
   "execution_count": 56,
   "metadata": {},
   "outputs": [],
   "source": [
    "from scipy.stats import truncnorm\n",
    "import numpy as np\n",
    "from matplotlib import pyplot as plt\n",
    "from scipy.stats import norm"
   ]
  },
  {
   "cell_type": "markdown",
   "metadata": {},
   "source": [
    "Input data for mounting slot calculation "
   ]
  },
  {
   "cell_type": "code",
   "execution_count": 57,
   "metadata": {},
   "outputs": [],
   "source": [
    "N = 1000000\n",
    "mouth_opening = 26.55 #cpk 1.67\n",
    "tol_mouth_opening = 0.014\n",
    "foil_widith = 26.5 #cpk 1.67\n",
    "tol_foil_widith = 0.014"
   ]
  },
  {
   "cell_type": "markdown",
   "metadata": {},
   "source": [
    "Normal continuous random variable."
   ]
  },
  {
   "cell_type": "code",
   "execution_count": 58,
   "metadata": {
    "scrolled": true
   },
   "outputs": [],
   "source": [
    "list1 = norm.rvs(mouth_opening, tol_mouth_opening, size = N)\n",
    "list2 = norm.rvs(foil_widith, tol_foil_widith, size = N)"
   ]
  },
  {
   "cell_type": "code",
   "execution_count": 59,
   "metadata": {
    "scrolled": true
   },
   "outputs": [],
   "source": [
    "def assembly_gap(connector, foil):\n",
    "    gap = []\n",
    "    for i in connector:\n",
    "        for j in foil:\n",
    "            gap.append(i - j)\n",
    "        return gap\n",
    "#print(list1, list2)\n",
    "gap = assembly_gap(list1, list2)\n",
    "#print(gap)"
   ]
  },
  {
   "cell_type": "code",
   "execution_count": 60,
   "metadata": {},
   "outputs": [
    {
     "name": "stdout",
     "output_type": "stream",
     "text": [
      "0.050387724582551696\n"
     ]
    }
   ],
   "source": [
    "miu = np.mean(gap)\n",
    "print(miu)"
   ]
  },
  {
   "cell_type": "code",
   "execution_count": 61,
   "metadata": {
    "scrolled": true
   },
   "outputs": [
    {
     "name": "stdout",
     "output_type": "stream",
     "text": [
      "0.014002296107584371\n"
     ]
    }
   ],
   "source": [
    "sigma = np.std(gap)\n",
    "print(sigma)"
   ]
  },
  {
   "cell_type": "markdown",
   "metadata": {},
   "source": [
    "Number of samples greater then \"0\" "
   ]
  },
  {
   "cell_type": "code",
   "execution_count": 62,
   "metadata": {
    "scrolled": false
   },
   "outputs": [
    {
     "name": "stdout",
     "output_type": "stream",
     "text": [
      "158\n"
     ]
    }
   ],
   "source": [
    "lista_sub_zero = [i for i in gap if i < 0]\n",
    "print(len(lista_sub_zero))"
   ]
  },
  {
   "cell_type": "code",
   "execution_count": 63,
   "metadata": {
    "scrolled": true
   },
   "outputs": [
    {
     "data": {
      "text/plain": [
       "(array([5.66051245e-04, 2.83025623e-04, 1.41512811e-03, 1.41512811e-03,\n",
       "        8.49076868e-03, 1.86796911e-02, 4.18877922e-02, 1.04436455e-01,\n",
       "        2.48779522e-01, 5.04917711e-01, 9.83514039e-01, 1.86938424e+00,\n",
       "        3.22139764e+00, 5.29088099e+00, 8.09198558e+00, 1.16114092e+01,\n",
       "        1.58833979e+01, 2.00167041e+01, 2.40639705e+01, 2.67900733e+01,\n",
       "        2.85731348e+01, 2.79903850e+01, 2.59588271e+01, 2.24917632e+01,\n",
       "        1.85044982e+01, 1.40389200e+01, 1.00955240e+01, 6.85601268e+00,\n",
       "        4.32208428e+00, 2.58543906e+00, 1.45390262e+00, 7.46621593e-01,\n",
       "        3.70197515e-01, 1.63022759e-01, 7.01903544e-02, 3.28309722e-02,\n",
       "        1.01889224e-02, 5.09446121e-03, 2.26420498e-03, 1.13210249e-03]),\n",
       " array([-0.02308622, -0.01955297, -0.01601972, -0.01248647, -0.00895322,\n",
       "        -0.00541997, -0.00188672,  0.00164653,  0.00517977,  0.00871302,\n",
       "         0.01224627,  0.01577952,  0.01931277,  0.02284602,  0.02637927,\n",
       "         0.02991252,  0.03344577,  0.03697902,  0.04051226,  0.04404551,\n",
       "         0.04757876,  0.05111201,  0.05464526,  0.05817851,  0.06171176,\n",
       "         0.06524501,  0.06877826,  0.07231151,  0.07584475,  0.079378  ,\n",
       "         0.08291125,  0.0864445 ,  0.08997775,  0.093511  ,  0.09704425,\n",
       "         0.1005775 ,  0.10411075,  0.107644  ,  0.11117724,  0.11471049,\n",
       "         0.11824374]),\n",
       " <a list of 40 Patch objects>)"
      ]
     },
     "execution_count": 63,
     "metadata": {},
     "output_type": "execute_result"
    },
    {
     "data": {
      "image/png": "[encoded data removed]",
      "text/plain": [
       "<Figure size 432x288 with 1 Axes>"
      ]
     },
     "metadata": {
      "needs_background": "light"
     },
     "output_type": "display_data"
    }
   ],
   "source": [
    "plt.hist(gap, density = True, bins = 40, edgecolor = \"black\", alpha = 1) "
   ]
  },
  {
   "cell_type": "markdown",
   "metadata": {},
   "source": [
    "CDF-cumulutive distribution function prabaility of less than x = 0, define in percentage datapoints, left side of the distribution "
   ]
  },
  {
   "cell_type": "code",
   "execution_count": 64,
   "metadata": {},
   "outputs": [
    {
     "name": "stdout",
     "output_type": "stream",
     "text": [
      "0.00016000862610284638\n"
     ]
    }
   ],
   "source": [
    "\n",
    "cdf = norm.cdf(0, miu, sigma)\n",
    "print(cdf)"
   ]
  },
  {
   "cell_type": "code",
   "execution_count": 65,
   "metadata": {},
   "outputs": [
    {
     "name": "stdout",
     "output_type": "stream",
     "text": [
      "160.0\n"
     ]
    }
   ],
   "source": [
    "samples = cdf * N\n",
    "print(round(samples))"
   ]
  },
  {
   "cell_type": "markdown",
   "metadata": {},
   "source": [
    "SF - calculation of the datapoints in percentage on the right side of the distribution "
   ]
  },
  {
   "cell_type": "code",
   "execution_count": 66,
   "metadata": {
    "scrolled": true
   },
   "outputs": [
    {
     "name": "stdout",
     "output_type": "stream",
     "text": [
      "0.9998399913738971\n"
     ]
    }
   ],
   "source": [
    "sf = norm.sf(0, miu, sigma)\n",
    "print(sf)"
   ]
  }
 ],
 "metadata": {
  "kernelspec": {
   "display_name": "Python 3",
   "language": "python",
   "name": "python3"
  },
  "language_info": {
   "codemirror_mode": {
    "name": "ipython",
    "version": 3
   },
   "file_extension": ".py",
   "mimetype": "text/x-python",
   "name": "python",
   "nbconvert_exporter": "python",
   "pygments_lexer": "ipython3",
   "version": "3.7.4"
  }
 },
 "nbformat": 4,
 "nbformat_minor": 2
}
